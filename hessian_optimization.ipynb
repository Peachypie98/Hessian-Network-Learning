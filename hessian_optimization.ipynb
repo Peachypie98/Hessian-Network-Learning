{
 "cells": [
  {
   "cell_type": "code",
   "execution_count": 1,
   "metadata": {
    "notebookRunGroups": {
     "groupValue": "1"
    }
   },
   "outputs": [],
   "source": [
    "import torch\n",
    "import torch.nn as nn\n",
    "import matplotlib.pyplot as plt"
   ]
  },
  {
   "cell_type": "markdown",
   "metadata": {},
   "source": [
    "### First-Order Partial Derivative (Gradient Descent)"
   ]
  },
  {
   "cell_type": "code",
   "execution_count": 2,
   "metadata": {
    "notebookRunGroups": {
     "groupValue": "1"
    }
   },
   "outputs": [
    {
     "name": "stdout",
     "output_type": "stream",
     "text": [
      "Initial Parameters:\n",
      " tensor([[0.4963, 0.7682, 0.0885, 0.1320, 0.3074],\n",
      "        [0.6341, 0.4901, 0.8964, 0.4556, 0.6323],\n",
      "        [0.3489, 0.4017, 0.0223, 0.1689, 0.2939],\n",
      "        [0.5185, 0.6977, 0.8000, 0.1610, 0.2823],\n",
      "        [0.6816, 0.9152, 0.3971, 0.8742, 0.4194]], requires_grad=True)\n",
      "Target Parameters:\n",
      " tensor([[0.5529, 0.9527, 0.0362, 0.1852, 0.3734],\n",
      "        [0.3051, 0.9320, 0.1759, 0.2698, 0.1507],\n",
      "        [0.0317, 0.2081, 0.9298, 0.7231, 0.7423],\n",
      "        [0.5263, 0.2437, 0.5846, 0.0332, 0.1387],\n",
      "        [0.2422, 0.8155, 0.7932, 0.2783, 0.4820]]) \n",
      "\n",
      "Start Training!\n",
      "Epoch 0 | Loss: 0.1446\n",
      "Epoch 10 | Loss: 0.1231\n",
      "Epoch 20 | Loss: 0.1049\n",
      "Epoch 30 | Loss: 0.0893\n",
      "\n",
      "Updated Parameters:\n",
      " tensor([[0.5118, 0.8189, 0.0741, 0.1466, 0.3256],\n",
      "        [0.5437, 0.6115, 0.6985, 0.4046, 0.5000],\n",
      "        [0.2617, 0.3485, 0.2717, 0.3212, 0.4171],\n",
      "        [0.5207, 0.5729, 0.7408, 0.1259, 0.2428],\n",
      "        [0.5609, 0.8878, 0.5059, 0.7104, 0.4366]], grad_fn=<SubBackward0>)\n"
     ]
    },
    {
     "name": "stderr",
     "output_type": "stream",
     "text": [
      "c:\\Users\\jklim\\anaconda3\\envs\\env1\\Lib\\site-packages\\torch\\autograd\\__init__.py:200: UserWarning: Using backward() with create_graph=True will create a reference cycle between the parameter and its gradient which can cause a memory leak. We recommend using autograd.grad when creating the graph to avoid this. If you have to use this function, make sure to reset the .grad fields of your parameters to None after use to break the cycle and avoid the leak. (Triggered internally at C:\\cb\\pytorch_1000000000000\\work\\torch\\csrc\\autograd\\engine.cpp:1156.)\n",
      "  Variable._execution_engine.run_backward(  # Calls into the C++ engine to run the backward pass\n"
     ]
    }
   ],
   "source": [
    "# Create Seed\n",
    "torch.manual_seed(0)\n",
    "\n",
    "# Create a dummy model parameter and target input with batch and feature of 5\n",
    "params = torch.rand(5,5, requires_grad=True)\n",
    "target = torch.rand(5,5)\n",
    "print(\"Initial Parameters:\\n\", params)\n",
    "print(\"Target Parameters:\\n\", target, \"\\n\")\n",
    "\n",
    "# Train configurations\n",
    "epoch = 40\n",
    "lr = 0.1\n",
    "criterion = nn.MSELoss(reduction='mean')\n",
    "\n",
    "# Compute first order gradient (a' = a - lr*grad)\n",
    "loss_1 = []\n",
    "print(\"Start Training!\")\n",
    "for i in range(epoch):\n",
    "    loss = criterion(params, target)\n",
    "    loss_1.append(loss.item())\n",
    "\n",
    "    params.retain_grad()\n",
    "    loss.backward(create_graph=True)\n",
    "    \n",
    "    params = params - (lr*params.grad)\n",
    "    \n",
    "    if i % 10 == 0:\n",
    "        print(f\"Epoch {i} | Loss: {loss.item():.4f}\")\n",
    "    \n",
    "print(\"\\nUpdated Parameters:\\n\", params)"
   ]
  },
  {
   "cell_type": "markdown",
   "metadata": {},
   "source": [
    "### Second-Order Partial Derivative (Manual)"
   ]
  },
  {
   "cell_type": "code",
   "execution_count": 3,
   "metadata": {
    "notebookRunGroups": {
     "groupValue": "1"
    }
   },
   "outputs": [
    {
     "name": "stdout",
     "output_type": "stream",
     "text": [
      "Initial Parameters:\n",
      " tensor([[0.4963, 0.7682, 0.0885, 0.1320, 0.3074],\n",
      "        [0.6341, 0.4901, 0.8964, 0.4556, 0.6323],\n",
      "        [0.3489, 0.4017, 0.0223, 0.1689, 0.2939],\n",
      "        [0.5185, 0.6977, 0.8000, 0.1610, 0.2823],\n",
      "        [0.6816, 0.9152, 0.3971, 0.8742, 0.4194]], requires_grad=True)\n",
      "Target Parameters:\n",
      " tensor([[0.5529, 0.9527, 0.0362, 0.1852, 0.3734],\n",
      "        [0.3051, 0.9320, 0.1759, 0.2698, 0.1507],\n",
      "        [0.0317, 0.2081, 0.9298, 0.7231, 0.7423],\n",
      "        [0.5263, 0.2437, 0.5846, 0.0332, 0.1387],\n",
      "        [0.2422, 0.8155, 0.7932, 0.2783, 0.4820]]) \n",
      "\n",
      "Start Training!\n",
      "Epoch 0 | Loss: 0.1446\n",
      "Epoch 10 | Loss: 0.0176\n",
      "Epoch 20 | Loss: 0.0021\n",
      "Epoch 30 | Loss: 0.0003\n",
      "\n",
      "Updated Parameters:\n",
      " tensor([[0.5521, 0.9500, 0.0369, 0.1844, 0.3724],\n",
      "        [0.3100, 0.9255, 0.1866, 0.2726, 0.1578],\n",
      "        [0.0364, 0.2110, 0.9164, 0.7149, 0.7357],\n",
      "        [0.5262, 0.2504, 0.5878, 0.0350, 0.1408],\n",
      "        [0.2487, 0.8169, 0.7873, 0.2871, 0.4810]], grad_fn=<ViewBackward0>)\n"
     ]
    }
   ],
   "source": [
    "# Create Seed\n",
    "torch.manual_seed(0)\n",
    "\n",
    "# Create a dummy model parameters and target parameters\n",
    "params = torch.rand(5,5, requires_grad=True)\n",
    "target = torch.rand(5,5)\n",
    "print(\"Initial Parameters:\\n\", params)\n",
    "print(\"Target Parameters:\\n\", target, \"\\n\")\n",
    "\n",
    "# Train configurations\n",
    "epoch = 40\n",
    "lr = 0.1\n",
    "criterion = nn.MSELoss(reduction='mean')\n",
    "\n",
    "# Compute second order gradient (a' = a - lr*inv(H)*grad)\n",
    "loss_2 = []\n",
    "hessian_matrix = torch.zeros(5*5, 5*5, dtype=torch.float32)\n",
    "print(\"Start Training!\")\n",
    "for i in range(epoch):\n",
    "    loss = criterion(params, target)\n",
    "    loss_2.append(loss.item())\n",
    "    params.retain_grad()\n",
    "    loss.backward(create_graph=True)\n",
    "    grad = params.grad.flatten()\n",
    "\n",
    "    # Compute Hessian for each parameter\n",
    "    for j in range(len(grad)): \n",
    "        grad_2nd = torch.autograd.grad(grad[j], params, create_graph=True)[0]\n",
    "        hessian_matrix[j] = grad_2nd.flatten()\n",
    "        \n",
    "    params = params.view(-1) - lr*(torch.inverse(hessian_matrix) @ grad)\n",
    "    params = params.view(5,5)\n",
    "    \n",
    "    if i % 10 == 0:\n",
    "        print(f\"Epoch {i} | Loss: {loss.item():.4f}\")\n",
    "\n",
    "print(\"\\nUpdated Parameters:\\n\", params)"
   ]
  },
  {
   "cell_type": "markdown",
   "metadata": {},
   "source": [
    "### Second-Order Partial Derivative (PyTorch Function Hessian)"
   ]
  },
  {
   "cell_type": "code",
   "execution_count": 4,
   "metadata": {
    "notebookRunGroups": {
     "groupValue": "1"
    }
   },
   "outputs": [
    {
     "name": "stdout",
     "output_type": "stream",
     "text": [
      "Initial Parameters:\n",
      " tensor([[0.4963, 0.7682, 0.0885, 0.1320, 0.3074],\n",
      "        [0.6341, 0.4901, 0.8964, 0.4556, 0.6323],\n",
      "        [0.3489, 0.4017, 0.0223, 0.1689, 0.2939],\n",
      "        [0.5185, 0.6977, 0.8000, 0.1610, 0.2823],\n",
      "        [0.6816, 0.9152, 0.3971, 0.8742, 0.4194]], requires_grad=True)\n",
      "Target Parameters:\n",
      " tensor([[0.5529, 0.9527, 0.0362, 0.1852, 0.3734],\n",
      "        [0.3051, 0.9320, 0.1759, 0.2698, 0.1507],\n",
      "        [0.0317, 0.2081, 0.9298, 0.7231, 0.7423],\n",
      "        [0.5263, 0.2437, 0.5846, 0.0332, 0.1387],\n",
      "        [0.2422, 0.8155, 0.7932, 0.2783, 0.4820]]) \n",
      "\n",
      "Start Training!\n",
      "Epoch 0 | Loss: 0.1446\n",
      "Epoch 10 | Loss: 0.0176\n",
      "Epoch 20 | Loss: 0.0021\n",
      "Epoch 30 | Loss: 0.0003\n",
      "\n",
      "Updated Parameters:\n",
      " tensor([[0.5521, 0.9500, 0.0369, 0.1844, 0.3724],\n",
      "        [0.3100, 0.9255, 0.1866, 0.2726, 0.1578],\n",
      "        [0.0364, 0.2110, 0.9164, 0.7149, 0.7357],\n",
      "        [0.5262, 0.2504, 0.5878, 0.0350, 0.1408],\n",
      "        [0.2487, 0.8169, 0.7873, 0.2871, 0.4810]], grad_fn=<ViewBackward0>)\n"
     ]
    }
   ],
   "source": [
    "import torch\n",
    "import torch.nn as nn\n",
    "import torch.autograd.functional as AF\n",
    "\n",
    "# Create Seed\n",
    "torch.manual_seed(0)\n",
    "\n",
    "# Create a dummy model parameters and target parameters\n",
    "params = torch.rand(5,5, requires_grad=True)\n",
    "target = torch.rand(5,5)\n",
    "print(\"Initial Parameters:\\n\", params)\n",
    "print(\"Target Parameters:\\n\", target, \"\\n\")\n",
    "\n",
    "# Train configurations\n",
    "epoch = 40\n",
    "lr = 0.1\n",
    "criterion = nn.MSELoss(reduction='mean')\n",
    "\n",
    "# Compute second order gradient (a' = a - lr*inv(H)*grad)\n",
    "def compute_loss(params, target):\n",
    "    loss = criterion(params, target)\n",
    "    return loss\n",
    "\n",
    "loss_3 = []\n",
    "print(\"Start Training!\")\n",
    "for i in range(epoch):\n",
    "    loss = criterion(params, target)\n",
    "    params.retain_grad()\n",
    "    loss.backward(create_graph=True)\n",
    "    loss_3.append(loss.item())\n",
    "    grad = params.grad.flatten()\n",
    "    \n",
    "    hessian_matrix = AF.hessian(compute_loss, (params, target))[0][0].view(25,25)\n",
    "    params = params.view(-1) - lr*(torch.inverse(hessian_matrix) @ grad)\n",
    "    params = params.view(5,5)\n",
    "    \n",
    "    if i % 10 == 0:\n",
    "        print(f\"Epoch {i} | Loss: {loss.item():.4f}\")\n",
    "\n",
    "print(\"\\nUpdated Parameters:\\n\", params)"
   ]
  },
  {
   "cell_type": "markdown",
   "metadata": {},
   "source": [
    "### Graph Comparison & Relative Percentage Improvement"
   ]
  },
  {
   "cell_type": "code",
   "execution_count": 5,
   "metadata": {
    "notebookRunGroups": {
     "groupValue": "1"
    }
   },
   "outputs": [
    {
     "data": {
      "image/png": "[encoded data removed]",
      "text/plain": [
       "<Figure size 640x480 with 1 Axes>"
      ]
     },
     "metadata": {},
     "output_type": "display_data"
    }
   ],
   "source": [
    "# 1st vs 2nd Order Differential Loss Result Comparison\n",
    "fig, ax = plt.subplots(1, 1)\n",
    "ax.plot(loss_1, label='$1^{th}$ Order Differential (Manual)')\n",
    "ax.plot(loss_2, label='$2^{nd}$ Order Differential (Manual / PyTorch)')\n",
    "ax.set_ylabel(\"Loss\")\n",
    "ax.set_xlabel(\"Epochs\")\n",
    "plt.legend(loc='upper right')\n",
    "plt.grid()"
   ]
  },
  {
   "cell_type": "code",
   "execution_count": 6,
   "metadata": {
    "notebookRunGroups": {
     "groupValue": "1"
    }
   },
   "outputs": [
    {
     "name": "stdout",
     "output_type": "stream",
     "text": [
      "## Relative Percentage Improvement ##\n",
      "1st Order Differential Optimization (Manual): 38.2%\n",
      "2nd Order Differential Optimization (Manual/PyTorch): 99.8%\n"
     ]
    }
   ],
   "source": [
    "# Relative Percentage Improvement\n",
    "initial_loss_1st = 0.1446\n",
    "final_loss_1st = 0.0893\n",
    "\n",
    "initial_loss_2nd = 0.1446\n",
    "final_loss_2nd = 0.0003\n",
    "\n",
    "decrease_percent_1st = ((initial_loss_1st - final_loss_1st) / initial_loss_1st) * 100\n",
    "decrease_percent_2nd = ((initial_loss_2nd - final_loss_2nd) / initial_loss_2nd) * 100\n",
    "\n",
    "print(\"## Relative Percentage Improvement ##\")\n",
    "print(f\"1st Order Differential Optimization (Manual): {decrease_percent_1st:.1f}%\")\n",
    "print(f\"2nd Order Differential Optimization (Manual/PyTorch): {decrease_percent_2nd:.1f}%\")"
   ]
  }
 ],
 "metadata": {
  "kernelspec": {
   "display_name": "env2",
   "language": "python",
   "name": "python3"
  },
  "language_info": {
   "codemirror_mode": {
    "name": "ipython",
    "version": 3
   },
   "file_extension": ".py",
   "mimetype": "text/x-python",
   "name": "python",
   "nbconvert_exporter": "python",
   "pygments_lexer": "ipython3",
   "version": "3.11.4"
  }
 },
 "nbformat": 4,
 "nbformat_minor": 2
}
